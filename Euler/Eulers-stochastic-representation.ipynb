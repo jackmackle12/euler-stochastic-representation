{
 "cells": [
  {
   "cell_type": "markdown",
   "metadata": {},
   "source": [
    "This is a stochastic representation of $e$ (Euler's number). \n",
    "\n",
    "Pick a real number from a uniformly random distribution on [0,1]. Repeat this until the sum of the chosen numbers is > 1. If you repeat this infinitely many times, on average, you will pick $e$ real numbers from the uniformly random distribution on [0,1].\n",
    "\n",
    "For a analytical proof, please see [this.](https://math.stackexchange.com/questions/8508/expected-number-of-0-1-distributed-continuous-random-variables-required-to-sum)"
   ]
  },
  {
   "cell_type": "code",
   "execution_count": 2,
   "metadata": {},
   "outputs": [],
   "source": [
    "import numpy as np \n",
    "import matplotlib.pyplot as plt"
   ]
  },
  {
   "cell_type": "code",
   "execution_count": 3,
   "metadata": {},
   "outputs": [],
   "source": [
    "def count():\n",
    "    count_x = 0 \n",
    "    _sum = 0\n",
    "    while _sum <= 1:\n",
    "        _sum += np.random.uniform(0,1)\n",
    "        count_x += 1\n",
    "    return count_x\n",
    "\n",
    "counts = []\n",
    "average_n = []\n",
    "\n",
    "for i in range(0,5000):\n",
    "    counts.append(count())\n",
    "    average_n.append(np.mean(counts))"
   ]
  },
  {
   "cell_type": "code",
   "execution_count": 5,
   "metadata": {},
   "outputs": [
    {
     "data": {
      "text/plain": [
       "Text(0.5, 0, 'Iterations')"
      ]
     },
     "execution_count": 5,
     "metadata": {},
     "output_type": "execute_result"
    },
    {
     "data": {
      "image/png": "[encoded data removed]",
      "text/plain": [
       "<Figure size 432x288 with 1 Axes>"
      ]
     },
     "metadata": {
      "needs_background": "light"
     },
     "output_type": "display_data"
    }
   ],
   "source": [
    "plt.plot(average_n)\n",
    "plt.axhline(np.exp(1),\n",
    "    color=\"orange\",\n",
    "    linestyle=\"--\")\n",
    "plt.xlabel(\"Iterations\")\n"
   ]
  },
  {
   "cell_type": "code",
   "execution_count": null,
   "metadata": {},
   "outputs": [],
   "source": []
  },
  {
   "cell_type": "markdown",
   "metadata": {},
   "source": []
  }
 ],
 "metadata": {
  "kernelspec": {
   "display_name": "Python 3.9.1 64-bit ('venv')",
   "metadata": {
    "interpreter": {
     "hash": "28073644d070de4c4b8ac4878cea66fb134f44b592475538e9bf3546c297792f"
    }
   },
   "name": "python3"
  },
  "language_info": {
   "codemirror_mode": {
    "name": "ipython",
    "version": 3
   },
   "file_extension": ".py",
   "mimetype": "text/x-python",
   "name": "python",
   "nbconvert_exporter": "python",
   "pygments_lexer": "ipython3",
   "version": "3.8.5"
  },
  "orig_nbformat": 2
 },
 "nbformat": 4,
 "nbformat_minor": 2
}
